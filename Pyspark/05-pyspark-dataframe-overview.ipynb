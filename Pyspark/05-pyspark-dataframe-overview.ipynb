{
 "cells": [
  {
   "cell_type": "code",
   "execution_count": 36,
   "metadata": {},
   "outputs": [],
   "source": [
    "import findspark\n",
    "findspark.init()"
   ]
  },
  {
   "cell_type": "code",
   "execution_count": 37,
   "metadata": {},
   "outputs": [],
   "source": [
    "from pyspark.sql import SparkSession\n",
    "spark = SparkSession.builder.appName(\"pyspark-df-overview\").getOrCreate()"
   ]
  },
  {
   "cell_type": "code",
   "execution_count": 38,
   "metadata": {},
   "outputs": [
    {
     "data": {
      "text/plain": [
       "'3.4.1'"
      ]
     },
     "execution_count": 38,
     "metadata": {},
     "output_type": "execute_result"
    }
   ],
   "source": [
    "spark.version"
   ]
  },
  {
   "cell_type": "code",
   "execution_count": 39,
   "metadata": {},
   "outputs": [
    {
     "name": "stdout",
     "output_type": "stream",
     "text": [
      "root\n",
      " |-- age: string (nullable = true)\n",
      " |-- workclass: string (nullable = true)\n",
      " |-- fnlwgt: string (nullable = true)\n",
      " |-- education: string (nullable = true)\n",
      " |-- education.num: string (nullable = true)\n",
      " |-- marital.status: string (nullable = true)\n",
      " |-- occupation: string (nullable = true)\n",
      " |-- relationship: string (nullable = true)\n",
      " |-- race: string (nullable = true)\n",
      " |-- sex: string (nullable = true)\n",
      " |-- capital.gain: string (nullable = true)\n",
      " |-- capital.loss: string (nullable = true)\n",
      " |-- hours.per.week: string (nullable = true)\n",
      " |-- native.country: string (nullable = true)\n",
      " |-- income: string (nullable = true)\n",
      "\n"
     ]
    }
   ],
   "source": [
    "df = spark.read.csv(\"dataset/pyspark-df-overview/census_income.csv.gz\", header=True)\n",
    "df.printSchema()"
   ]
  },
  {
   "cell_type": "code",
   "execution_count": 40,
   "metadata": {},
   "outputs": [],
   "source": [
    "import pyspark.sql.types as t\n",
    "\n",
    "census_schema = t.StructType([\n",
    "      t.StructField('age', t.IntegerType(), True)\n",
    "    , t.StructField('workclass', t.StringType(), True)\n",
    "    , t.StructField('fnlwgt', t.IntegerType(), True)\n",
    "    , t.StructField('education', t.StringType(), True)\n",
    "    , t.StructField('education-num', t.IntegerType(), True)\n",
    "    , t.StructField('marital-status', t.StringType(), True)\n",
    "    , t.StructField('occupation', t.StringType(), True)\n",
    "    , t.StructField('relationship', t.StringType(), True)\n",
    "    , t.StructField('race', t.StringType(), True)\n",
    "    , t.StructField('sex', t.StringType(), True)\n",
    "    , t.StructField('capital-gain', t.DoubleType(), True)\n",
    "    , t.StructField('capital-loss', t.DoubleType(), True)\n",
    "    , t.StructField('hours-per-week', t.IntegerType(), True)\n",
    "    , t.StructField('native-country', t.StringType(), True)\n",
    "    , t.StructField('label', t.StringType(), True)\n",
    "])"
   ]
  },
  {
   "cell_type": "code",
   "execution_count": 41,
   "metadata": {},
   "outputs": [
    {
     "name": "stdout",
     "output_type": "stream",
     "text": [
      "root\n",
      " |-- age: integer (nullable = true)\n",
      " |-- workclass: string (nullable = true)\n",
      " |-- fnlwgt: integer (nullable = true)\n",
      " |-- education: string (nullable = true)\n",
      " |-- education-num: integer (nullable = true)\n",
      " |-- marital-status: string (nullable = true)\n",
      " |-- occupation: string (nullable = true)\n",
      " |-- relationship: string (nullable = true)\n",
      " |-- race: string (nullable = true)\n",
      " |-- sex: string (nullable = true)\n",
      " |-- capital-gain: double (nullable = true)\n",
      " |-- capital-loss: double (nullable = true)\n",
      " |-- hours-per-week: integer (nullable = true)\n",
      " |-- native-country: string (nullable = true)\n",
      " |-- label: string (nullable = true)\n",
      "\n"
     ]
    }
   ],
   "source": [
    "# Support for compressed (gziped) payload\n",
    "df = spark.read.csv(\"dataset/pyspark-df-overview/census_income.csv.gz\", header=True, schema=census_schema)\n",
    "df.printSchema()"
   ]
  },
  {
   "cell_type": "code",
   "execution_count": 42,
   "metadata": {},
   "outputs": [
    {
     "data": {
      "text/plain": [
       "32561"
      ]
     },
     "execution_count": 42,
     "metadata": {},
     "output_type": "execute_result"
    }
   ],
   "source": [
    "df.count()"
   ]
  },
  {
   "cell_type": "code",
   "execution_count": 43,
   "metadata": {},
   "outputs": [
    {
     "name": "stdout",
     "output_type": "stream",
     "text": [
      "root\n",
      " |-- age: integer (nullable = true)\n",
      " |-- workclass: string (nullable = true)\n",
      " |-- education: string (nullable = true)\n",
      " |-- education-num: integer (nullable = true)\n",
      " |-- marital-status: string (nullable = true)\n",
      " |-- occupation: string (nullable = true)\n",
      " |-- relationship: string (nullable = true)\n",
      " |-- race: string (nullable = true)\n",
      " |-- sex: string (nullable = true)\n",
      " |-- capital-gain: double (nullable = true)\n",
      " |-- capital-loss: double (nullable = true)\n",
      " |-- hours-per-week: integer (nullable = true)\n",
      " |-- native-country: string (nullable = true)\n",
      " |-- label: string (nullable = true)\n",
      "\n"
     ]
    }
   ],
   "source": [
    "df = df.drop('fnlwgt')\n",
    "df.printSchema()"
   ]
  },
  {
   "cell_type": "code",
   "execution_count": 44,
   "metadata": {},
   "outputs": [
    {
     "name": "stdout",
     "output_type": "stream",
     "text": [
      "+------------+-----+------------------+\n",
      "|   education|  qty|           avg_age|\n",
      "+------------+-----+------------------+\n",
      "|     HS-grad|10501|38.974478621083705|\n",
      "|Some-college| 7291| 35.75627485941572|\n",
      "|   Bachelors| 5355| 38.90494864612511|\n",
      "|     Masters| 1723| 44.04991294254208|\n",
      "|   Assoc-voc| 1382| 38.55354558610709|\n",
      "|        11th| 1175| 32.35574468085106|\n",
      "|  Assoc-acdm| 1067|37.381443298969074|\n",
      "|        10th|  933| 37.42979635584137|\n",
      "|     7th-8th|  646| 48.44582043343653|\n",
      "| Prof-school|  576| 44.74652777777778|\n",
      "|         9th|  514| 41.06031128404669|\n",
      "|        12th|  433|              32.0|\n",
      "|   Doctorate|  413| 47.70217917675545|\n",
      "|     5th-6th|  333|42.885885885885884|\n",
      "|     1st-4th|  168|46.142857142857146|\n",
      "|   Preschool|   51| 42.76470588235294|\n",
      "+------------+-----+------------------+\n",
      "\n"
     ]
    }
   ],
   "source": [
    "from pyspark.sql.functions import count, avg, desc\n",
    "\n",
    "df.groupBy(['education']). \\\n",
    "agg(\n",
    "    count('*').alias('qty'), \n",
    "    avg('age').alias('avg_age')\n",
    ").orderBy(desc('qty')). \\\n",
    "show()"
   ]
  },
  {
   "cell_type": "code",
   "execution_count": 45,
   "metadata": {},
   "outputs": [
    {
     "name": "stdout",
     "output_type": "stream",
     "text": [
      "+------------+-----+------------------+\n",
      "|   education|  qty|           avg_age|\n",
      "+------------+-----+------------------+\n",
      "|        10th|  933| 37.42979635584137|\n",
      "|     Masters| 1723| 44.04991294254208|\n",
      "|     5th-6th|  333|42.885885885885884|\n",
      "|  Assoc-acdm| 1067|37.381443298969074|\n",
      "|   Assoc-voc| 1382| 38.55354558610709|\n",
      "|     7th-8th|  646| 48.44582043343653|\n",
      "|         9th|  514| 41.06031128404669|\n",
      "|     HS-grad|10501|38.974478621083705|\n",
      "|   Bachelors| 5355| 38.90494864612511|\n",
      "|        11th| 1175| 32.35574468085106|\n",
      "|     1st-4th|  168|46.142857142857146|\n",
      "|   Preschool|   51| 42.76470588235294|\n",
      "|        12th|  433|              32.0|\n",
      "|   Doctorate|  413| 47.70217917675545|\n",
      "|Some-college| 7291| 35.75627485941572|\n",
      "| Prof-school|  576| 44.74652777777778|\n",
      "+------------+-----+------------------+\n",
      "\n"
     ]
    }
   ],
   "source": [
    "df.createOrReplaceTempView(\"census\")\n",
    "s = spark.sql(\"\"\"\n",
    "SELECT \n",
    "    education, \n",
    "    COUNT(*) AS qty, \n",
    "    AVG(age) AS avg_age\n",
    "FROM census\n",
    "GROUP BY education\n",
    "\"\"\")\n",
    "s.show()"
   ]
  },
  {
   "cell_type": "code",
   "execution_count": 46,
   "metadata": {},
   "outputs": [
    {
     "name": "stdout",
     "output_type": "stream",
     "text": [
      "+----------------+-----+------------------+\n",
      "|       workclass|  qty|           avg_age|\n",
      "+----------------+-----+------------------+\n",
      "|         Private|22696|36.797585477617204|\n",
      "|Self-emp-not-inc| 2541| 44.96969696969697|\n",
      "|       Local-gov| 2093| 41.75107501194458|\n",
      "|            null| 1836|40.960239651416124|\n",
      "|       State-gov| 1298| 39.43605546995377|\n",
      "|    Self-emp-inc| 1116| 46.01702508960574|\n",
      "|     Federal-gov|  960|         42.590625|\n",
      "|     Without-pay|   14|47.785714285714285|\n",
      "|    Never-worked|    7|20.571428571428573|\n",
      "+----------------+-----+------------------+\n",
      "\n",
      "None\n"
     ]
    }
   ],
   "source": [
    "# a transformation can be exposed as function\n",
    "def my_query(field):\n",
    "    return df.groupBy([field]). \\\n",
    "    agg(\n",
    "        count('*').alias('qty'), \n",
    "        avg('age').alias('avg_age')\n",
    "    ).orderBy(desc('qty'))\n",
    "    \n",
    "print(my_query('workclass').show())"
   ]
  },
  {
   "cell_type": "code",
   "execution_count": 47,
   "metadata": {},
   "outputs": [
    {
     "name": "stdout",
     "output_type": "stream",
     "text": [
      "+-------+------------------+-----------------+------------------+-----------------+------------------+\n",
      "|summary|               age|    education-num|      capital-gain|     capital-loss|    hours-per-week|\n",
      "+-------+------------------+-----------------+------------------+-----------------+------------------+\n",
      "|  count|             32561|            32561|             32561|            32561|             32276|\n",
      "|   mean| 38.58164675532078| 10.0806793403151|1077.6488437087312|  87.303829734959|40.441318626843476|\n",
      "| stddev|13.640432553581295|2.572720332067391| 7385.292084840311|402.9602186489979|12.401756275364061|\n",
      "|    min|                17|                1|               0.0|              0.0|                 1|\n",
      "|    max|                90|               16|           99999.0|           4356.0|                99|\n",
      "+-------+------------------+-----------------+------------------+-----------------+------------------+\n",
      "\n"
     ]
    },
    {
     "name": "stderr",
     "output_type": "stream",
     "text": [
      "23/09/30 10:41:11 WARN CSVHeaderChecker: CSV header does not conform to the schema.\n",
      " Header: age, education.num, capital.gain, capital.loss, hours.per.week\n",
      " Schema: age, education-num, capital-gain, capital-loss, hours-per-week\n",
      "Expected: education-num but found: education.num\n",
      "CSV file: file:///Users/pame/Documents/GitHub/alto-academy-part3-class2-big-data/Pyspark/dataset/pyspark-df-overview/census_income.csv.gz\n"
     ]
    }
   ],
   "source": [
    "df.select('age', 'education-num', 'capital-gain', 'capital-loss', 'hours-per-week').describe().show()"
   ]
  },
  {
   "cell_type": "code",
   "execution_count": 48,
   "metadata": {},
   "outputs": [
    {
     "name": "stderr",
     "output_type": "stream",
     "text": [
      "23/09/30 10:41:12 WARN CSVHeaderChecker: CSV header does not conform to the schema.\n",
      " Header: workclass, education, marital.status\n",
      " Schema: workclass, education, marital-status\n",
      "Expected: marital-status but found: marital.status\n",
      "CSV file: file:///Users/pame/Documents/GitHub/alto-academy-part3-class2-big-data/Pyspark/dataset/pyspark-df-overview/census_income.csv.gz\n"
     ]
    },
    {
     "name": "stdout",
     "output_type": "stream",
     "text": [
      "+-------+-----------+------------+--------------+\n",
      "|summary|  workclass|   education|marital-status|\n",
      "+-------+-----------+------------+--------------+\n",
      "|  count|      30725|       32561|         32561|\n",
      "|   mean|       null|        null|          null|\n",
      "| stddev|       null|        null|          null|\n",
      "|    min|Federal-gov|        10th|      Divorced|\n",
      "|    max|Without-pay|Some-college|       Widowed|\n",
      "+-------+-----------+------------+--------------+\n",
      "\n"
     ]
    }
   ],
   "source": [
    "df.select('workclass', 'education', 'marital-status').describe().show()"
   ]
  },
  {
   "cell_type": "code",
   "execution_count": 51,
   "metadata": {},
   "outputs": [
    {
     "name": "stdout",
     "output_type": "stream",
     "text": [
      "+-----------------------------------------------------------------------------------------------------------+\n",
      "|marital-status_freqItems                                                                                   |\n",
      "+-----------------------------------------------------------------------------------------------------------+\n",
      "|[Never-married, Divorced, Married-civ-spouse, Separated, Widowed, Married-AF-spouse, Married-spouse-absent]|\n",
      "+-----------------------------------------------------------------------------------------------------------+\n",
      "\n"
     ]
    },
    {
     "name": "stderr",
     "output_type": "stream",
     "text": [
      "23/09/30 10:42:46 WARN CSVHeaderChecker: CSV header does not conform to the schema.\n",
      " Header: marital.status\n",
      " Schema: marital-status\n",
      "Expected: marital-status but found: marital.status\n",
      "CSV file: file:///Users/pame/Documents/GitHub/alto-academy-part3-class2-big-data/Pyspark/dataset/pyspark-df-overview/census_income.csv.gz\n"
     ]
    }
   ],
   "source": [
    "df.freqItems(['marital-status']).show(truncate=False)"
   ]
  },
  {
   "cell_type": "code",
   "execution_count": 21,
   "metadata": {},
   "outputs": [
    {
     "name": "stdout",
     "output_type": "stream",
     "text": [
      "+--------------------+---------------------+\n",
      "|      native-country|count(native-country)|\n",
      "+--------------------+---------------------+\n",
      "|                null|                    0|\n",
      "|  Holand-Netherlands|                    1|\n",
      "|            Scotland|                   12|\n",
      "|            Honduras|                   13|\n",
      "|             Hungary|                   13|\n",
      "|Outlying-US(Guam-...|                   14|\n",
      "|          Yugoslavia|                   16|\n",
      "|                Laos|                   18|\n",
      "|            Thailand|                   18|\n",
      "|            Cambodia|                   19|\n",
      "|     Trinadad&Tobago|                   19|\n",
      "|                Hong|                   20|\n",
      "|             Ireland|                   24|\n",
      "|             Ecuador|                   28|\n",
      "|              France|                   29|\n",
      "|              Greece|                   29|\n",
      "|                Peru|                   31|\n",
      "|           Nicaragua|                   34|\n",
      "|            Portugal|                   37|\n",
      "|                Iran|                   43|\n",
      "+--------------------+---------------------+\n",
      "only showing top 20 rows\n",
      "\n"
     ]
    },
    {
     "name": "stderr",
     "output_type": "stream",
     "text": [
      "23/09/30 10:40:01 WARN CSVHeaderChecker: CSV header does not conform to the schema.\n",
      " Header: native.country\n",
      " Schema: native-country\n",
      "Expected: native-country but found: native.country\n",
      "CSV file: file:///Users/pame/Documents/GitHub/alto-academy-part3-class2-big-data/Pyspark/dataset/pyspark-df-overview/census_income.csv.gz\n"
     ]
    }
   ],
   "source": [
    "df.groupby('native-country').agg({'native-country': 'count'}).sort('count(native-country)').show()"
   ]
  },
  {
   "cell_type": "code",
   "execution_count": 58,
   "metadata": {},
   "outputs": [
    {
     "name": "stderr",
     "output_type": "stream",
     "text": [
      "23/09/30 10:49:44 WARN CSVHeaderChecker: CSV header does not conform to the schema.\n",
      " Header: workclass, education.num, occupation, hours.per.week, native.country\n",
      " Schema: workclass, education-num, occupation, hours-per-week, native-country\n",
      "Expected: education-num but found: education.num\n",
      "CSV file: file:///Users/pame/Documents/GitHub/alto-academy-part3-class2-big-data/Pyspark/dataset/pyspark-df-overview/census_income.csv.gz\n"
     ]
    },
    {
     "name": "stdout",
     "output_type": "stream",
     "text": [
      "+---------+-------------+----------+--------------+--------------+\n",
      "|workclass|education-num|occupation|hours-per-week|native-country|\n",
      "+---------+-------------+----------+--------------+--------------+\n",
      "|     1836|            0|      1843|           285|           583|\n",
      "+---------+-------------+----------+--------------+--------------+\n",
      "\n"
     ]
    }
   ],
   "source": [
    "from pyspark.sql.functions import isnan, when, count, col\n",
    "\n",
    "# All columns\n",
    "# cols = df.columns\n",
    "# Selected columns\n",
    "cols = ['workclass', 'education-num', 'occupation', 'hours-per-week', 'native-country']\n",
    "\n",
    "# https://stackoverflow.com/a/44631639/570393\n",
    "# counting the number of NaN or null values in each specified column.\n",
    "df.select([count(when(isnan(c) | col(c).isNull(), c)).alias(c) for c in cols]).show()"
   ]
  },
  {
   "cell_type": "code",
   "execution_count": 56,
   "metadata": {},
   "outputs": [
    {
     "name": "stdout",
     "output_type": "stream",
     "text": [
      "total rows: 32561\n",
      "only complete rows: 29900\n"
     ]
    },
    {
     "name": "stderr",
     "output_type": "stream",
     "text": [
      "23/09/30 10:48:37 WARN CSVHeaderChecker: CSV header does not conform to the schema.\n",
      " Header: age, workclass, education, education.num, marital.status, occupation, relationship, race, sex, capital.gain, capital.loss, hours.per.week, native.country, income\n",
      " Schema: age, workclass, education, education-num, marital-status, occupation, relationship, race, sex, capital-gain, capital-loss, hours-per-week, native-country, label\n",
      "Expected: education-num but found: education.num\n",
      "CSV file: file:///Users/pame/Documents/GitHub/alto-academy-part3-class2-big-data/Pyspark/dataset/pyspark-df-overview/census_income.csv.gz\n"
     ]
    }
   ],
   "source": [
    "# Total rows\n",
    "print('total rows: %s' % df.count())\n",
    "\n",
    "# After droping NA records\n",
    "print('only complete rows: %s' % df.dropna().count())"
   ]
  },
  {
   "cell_type": "code",
   "execution_count": 63,
   "metadata": {},
   "outputs": [],
   "source": [
    "def show_df(df, field='occupation'):\n",
    "    df.groupBy(field).count().show()"
   ]
  },
  {
   "cell_type": "code",
   "execution_count": 64,
   "metadata": {},
   "outputs": [
    {
     "name": "stdout",
     "output_type": "stream",
     "text": [
      "+-----------------+-----+\n",
      "|       occupation|count|\n",
      "+-----------------+-----+\n",
      "|            Sales| 3650|\n",
      "|  Exec-managerial| 4066|\n",
      "|   Prof-specialty| 4140|\n",
      "|Handlers-cleaners| 1370|\n",
      "|             null| 1843|\n",
      "|  Farming-fishing|  994|\n",
      "|     Craft-repair| 4099|\n",
      "| Transport-moving| 1597|\n",
      "|  Priv-house-serv|  149|\n",
      "|  Protective-serv|  649|\n",
      "|    Other-service| 3295|\n",
      "|     Tech-support|  928|\n",
      "|Machine-op-inspct| 2002|\n",
      "|     Armed-Forces|    9|\n",
      "|     Adm-clerical| 3770|\n",
      "+-----------------+-----+\n",
      "\n"
     ]
    }
   ],
   "source": [
    "show_df(df)"
   ]
  },
  {
   "cell_type": "code",
   "execution_count": 26,
   "metadata": {},
   "outputs": [
    {
     "name": "stdout",
     "output_type": "stream",
     "text": [
      "+-----------------+-----+\n",
      "|       occupation|count|\n",
      "+-----------------+-----+\n",
      "|            Sales| 3650|\n",
      "|  Exec-managerial| 4066|\n",
      "|   Prof-specialty| 4140|\n",
      "|Handlers-cleaners| 1370|\n",
      "|  Farming-fishing|  994|\n",
      "|     Craft-repair| 4099|\n",
      "| Transport-moving| 1597|\n",
      "|  Priv-house-serv|  149|\n",
      "|  Protective-serv|  649|\n",
      "|    Other-service| 5138|\n",
      "|     Tech-support|  928|\n",
      "|Machine-op-inspct| 2002|\n",
      "|     Armed-Forces|    9|\n",
      "|     Adm-clerical| 3770|\n",
      "+-----------------+-----+\n",
      "\n"
     ]
    }
   ],
   "source": [
    "# Fill with a fixed value\n",
    "new_df = df.fillna({'occupation': 'Other-service'})\n",
    "# Count \n",
    "show_df(new_df)"
   ]
  },
  {
   "cell_type": "code",
   "execution_count": 27,
   "metadata": {},
   "outputs": [
    {
     "name": "stdout",
     "output_type": "stream",
     "text": [
      "+------------------+\n",
      "|    hours-per-week|\n",
      "+------------------+\n",
      "|40.441318626843476|\n",
      "+------------------+\n",
      "\n"
     ]
    },
    {
     "name": "stderr",
     "output_type": "stream",
     "text": [
      "23/09/30 10:40:04 WARN CSVHeaderChecker: CSV header does not conform to the schema.\n",
      " Header: hours.per.week\n",
      " Schema: hours-per-week\n",
      "Expected: hours-per-week but found: hours.per.week\n",
      "CSV file: file:///Users/pame/Documents/GitHub/alto-academy-part3-class2-big-data/Pyspark/dataset/pyspark-df-overview/census_income.csv.gz\n"
     ]
    }
   ],
   "source": [
    "from pyspark.sql.functions import mean\n",
    "df.groupBy().agg(mean('hours-per-week').alias('hours-per-week')).show()"
   ]
  },
  {
   "cell_type": "code",
   "execution_count": 73,
   "metadata": {},
   "outputs": [
    {
     "name": "stderr",
     "output_type": "stream",
     "text": [
      "23/09/30 10:54:01 WARN CSVHeaderChecker: CSV header does not conform to the schema.\n",
      " Header: age, education.num, capital.gain, capital.loss, hours.per.week\n",
      " Schema: age, education-num, capital-gain, capital-loss, hours-per-week\n",
      "Expected: education-num but found: education.num\n",
      "CSV file: file:///Users/pame/Documents/GitHub/alto-academy-part3-class2-big-data/Pyspark/dataset/pyspark-df-overview/census_income.csv.gz\n"
     ]
    },
    {
     "name": "stdout",
     "output_type": "stream",
     "text": [
      "+--------------+------------------+------------------+------------------+------------------+-------------------+\n",
      "|hours-per-week|          avg(age)|avg(education-num)| avg(capital-gain)| avg(capital-loss)|avg(hours-per-week)|\n",
      "+--------------+------------------+------------------+------------------+------------------+-------------------+\n",
      "|            31|              47.8|               8.6|             519.4|               0.0|               31.0|\n",
      "|            85| 41.15384615384615| 9.307692307692308|               0.0|               0.0|               85.0|\n",
      "|            65|39.290983606557376|10.774590163934427| 4611.602459016393|129.27868852459017|               65.0|\n",
      "|            53|             38.48|              9.12|            440.52|               0.0|               53.0|\n",
      "|            78|             38.25|               9.5|               0.0|               0.0|               78.0|\n",
      "|            34|45.214285714285715| 8.535714285714286| 732.0357142857143| 72.92857142857143|               34.0|\n",
      "|            81|48.333333333333336|               9.0|               0.0|               0.0|               81.0|\n",
      "|            28| 37.33720930232558|  9.55813953488372|254.27906976744185| 66.59302325581395|               28.0|\n",
      "|            76|40.333333333333336|10.666666666666666|               0.0| 941.3333333333334|               76.0|\n",
      "|            26|38.666666666666664| 9.433333333333334|             185.2|132.36666666666667|               26.0|\n",
      "|            27| 34.43333333333333|10.066666666666666|130.26666666666668|               0.0|               27.0|\n",
      "|            44| 40.37264150943396|10.221698113207546| 710.3254716981132| 95.22641509433963|               44.0|\n",
      "|            12|34.895953757225435| 8.878612716763005|174.27167630057804|108.75722543352602|               12.0|\n",
      "|            91|44.666666666666664| 7.666666666666667|               0.0|               0.0|               91.0|\n",
      "|            22| 35.72727272727273| 9.159090909090908|222.02272727272728| 36.40909090909091|               22.0|\n",
      "|            47| 40.36734693877551|10.428571428571429| 949.3265306122449| 181.3469387755102|               47.0|\n",
      "|          null| 39.47017543859649| 9.585964912280701|               0.0|               0.0|               null|\n",
      "|             1|             61.55|              9.55|            162.85|              97.2|                1.0|\n",
      "|            52| 39.08695652173913| 9.956521739130435|             627.0|104.03623188405797|               52.0|\n",
      "|            13|43.130434782608695|10.043478260869565|190.69565217391303|               0.0|               13.0|\n",
      "+--------------+------------------+------------------+------------------+------------------+-------------------+\n",
      "only showing top 20 rows\n",
      "\n"
     ]
    }
   ],
   "source": [
    "df.groupBy('hours-per-week').mean().show()"
   ]
  },
  {
   "cell_type": "code",
   "execution_count": 28,
   "metadata": {},
   "outputs": [
    {
     "name": "stderr",
     "output_type": "stream",
     "text": [
      "23/09/30 10:40:04 WARN CSVHeaderChecker: CSV header does not conform to the schema.\n",
      " Header: hours.per.week\n",
      " Schema: hours-per-week\n",
      "Expected: hours-per-week but found: hours.per.week\n",
      "CSV file: file:///Users/pame/Documents/GitHub/alto-academy-part3-class2-big-data/Pyspark/dataset/pyspark-df-overview/census_income.csv.gz\n"
     ]
    },
    {
     "data": {
      "text/plain": [
       "{'hours-per-week': 40.441318626843476, 'occupation': 'Other-service'}"
      ]
     },
     "execution_count": 28,
     "metadata": {},
     "output_type": "execute_result"
    }
   ],
   "source": [
    "from pyspark.sql.functions import mean\n",
    "import pandas as pd\n",
    "\n",
    "data_to_fill = \\\n",
    "    df.groupBy().agg(mean('hours-per-week').alias('hours-per-week')).toPandas().to_dict('records')[0]\n",
    "\n",
    "# Simple Python Dict Update\n",
    "data_to_fill.update({'occupation': 'Other-service'})\n",
    "\n",
    "data_to_fill"
   ]
  },
  {
   "cell_type": "code",
   "execution_count": 29,
   "metadata": {},
   "outputs": [
    {
     "name": "stdout",
     "output_type": "stream",
     "text": [
      "+--------------+-----------------+\n",
      "|hours-per-week|       occupation|\n",
      "+--------------+-----------------+\n",
      "|            40|    Other-service|\n",
      "|            18|  Exec-managerial|\n",
      "|            40|    Other-service|\n",
      "|            40|Machine-op-inspct|\n",
      "|            40|   Prof-specialty|\n",
      "|            45|    Other-service|\n",
      "|            40|     Adm-clerical|\n",
      "|            20|   Prof-specialty|\n",
      "|            40|   Prof-specialty|\n",
      "|            60|     Craft-repair|\n",
      "|            35|   Prof-specialty|\n",
      "|            45|   Prof-specialty|\n",
      "|            20|    Other-service|\n",
      "|            55|  Exec-managerial|\n",
      "|            40|    Other-service|\n",
      "|            40|   Prof-specialty|\n",
      "|            76| Transport-moving|\n",
      "|            50|  Exec-managerial|\n",
      "|            40|Handlers-cleaners|\n",
      "|            50|            Sales|\n",
      "|            40|  Exec-managerial|\n",
      "|            42|            Sales|\n",
      "|            25|            Sales|\n",
      "|            40| Transport-moving|\n",
      "|            32|    Other-service|\n",
      "|            40|     Craft-repair|\n",
      "|            32|     Craft-repair|\n",
      "|            40|    Other-service|\n",
      "|            50| Transport-moving|\n",
      "|            90|   Prof-specialty|\n",
      "|            40|    Other-service|\n",
      "|            50|  Exec-managerial|\n",
      "|            60|  Exec-managerial|\n",
      "|            50|  Exec-managerial|\n",
      "|            50|  Exec-managerial|\n",
      "|            60|  Exec-managerial|\n",
      "|            48|            Sales|\n",
      "|            50|   Prof-specialty|\n",
      "|            60|   Prof-specialty|\n",
      "|            40|   Prof-specialty|\n",
      "|            50|  Exec-managerial|\n",
      "|            40|  Exec-managerial|\n",
      "|            40|     Adm-clerical|\n",
      "|            40|   Prof-specialty|\n",
      "|            15|    Other-service|\n",
      "|            70|            Sales|\n",
      "|            52|            Sales|\n",
      "|            40|  Farming-fishing|\n",
      "|            40|    Other-service|\n",
      "|            40|    Other-service|\n",
      "+--------------+-----------------+\n",
      "only showing top 50 rows\n",
      "\n"
     ]
    },
    {
     "name": "stderr",
     "output_type": "stream",
     "text": [
      "23/09/30 10:40:05 WARN CSVHeaderChecker: CSV header does not conform to the schema.\n",
      " Header: occupation, hours.per.week\n",
      " Schema: occupation, hours-per-week\n",
      "Expected: hours-per-week but found: hours.per.week\n",
      "CSV file: file:///Users/pame/Documents/GitHub/alto-academy-part3-class2-big-data/Pyspark/dataset/pyspark-df-overview/census_income.csv.gz\n"
     ]
    }
   ],
   "source": [
    "df.fillna(data_to_fill).select('hours-per-week', 'occupation').show(50)"
   ]
  },
  {
   "cell_type": "code",
   "execution_count": 30,
   "metadata": {},
   "outputs": [],
   "source": [
    "# This is distributed\n",
    "df_spark = df.groupBy('workclass').agg(count('*').alias('counts')).orderBy('counts')\n",
    "# df_spark.show()\n",
    "\n",
    "# This is running on driver\n",
    "df_wk = df_spark.toPandas()"
   ]
  },
  {
   "cell_type": "code",
   "execution_count": 31,
   "metadata": {},
   "outputs": [
    {
     "data": {
      "text/html": [
       "<div>\n",
       "<style scoped>\n",
       "    .dataframe tbody tr th:only-of-type {\n",
       "        vertical-align: middle;\n",
       "    }\n",
       "\n",
       "    .dataframe tbody tr th {\n",
       "        vertical-align: top;\n",
       "    }\n",
       "\n",
       "    .dataframe thead th {\n",
       "        text-align: right;\n",
       "    }\n",
       "</style>\n",
       "<table border=\"1\" class=\"dataframe\">\n",
       "  <thead>\n",
       "    <tr style=\"text-align: right;\">\n",
       "      <th></th>\n",
       "      <th>workclass</th>\n",
       "      <th>counts</th>\n",
       "    </tr>\n",
       "  </thead>\n",
       "  <tbody>\n",
       "    <tr>\n",
       "      <th>0</th>\n",
       "      <td>Never-worked</td>\n",
       "      <td>7</td>\n",
       "    </tr>\n",
       "    <tr>\n",
       "      <th>1</th>\n",
       "      <td>Without-pay</td>\n",
       "      <td>14</td>\n",
       "    </tr>\n",
       "    <tr>\n",
       "      <th>2</th>\n",
       "      <td>Federal-gov</td>\n",
       "      <td>960</td>\n",
       "    </tr>\n",
       "    <tr>\n",
       "      <th>3</th>\n",
       "      <td>Self-emp-inc</td>\n",
       "      <td>1116</td>\n",
       "    </tr>\n",
       "    <tr>\n",
       "      <th>4</th>\n",
       "      <td>State-gov</td>\n",
       "      <td>1298</td>\n",
       "    </tr>\n",
       "    <tr>\n",
       "      <th>5</th>\n",
       "      <td>None</td>\n",
       "      <td>1836</td>\n",
       "    </tr>\n",
       "    <tr>\n",
       "      <th>6</th>\n",
       "      <td>Local-gov</td>\n",
       "      <td>2093</td>\n",
       "    </tr>\n",
       "    <tr>\n",
       "      <th>7</th>\n",
       "      <td>Self-emp-not-inc</td>\n",
       "      <td>2541</td>\n",
       "    </tr>\n",
       "    <tr>\n",
       "      <th>8</th>\n",
       "      <td>Private</td>\n",
       "      <td>22696</td>\n",
       "    </tr>\n",
       "  </tbody>\n",
       "</table>\n",
       "</div>"
      ],
      "text/plain": [
       "          workclass  counts\n",
       "0      Never-worked       7\n",
       "1       Without-pay      14\n",
       "2       Federal-gov     960\n",
       "3      Self-emp-inc    1116\n",
       "4         State-gov    1298\n",
       "5              None    1836\n",
       "6         Local-gov    2093\n",
       "7  Self-emp-not-inc    2541\n",
       "8           Private   22696"
      ]
     },
     "execution_count": 31,
     "metadata": {},
     "output_type": "execute_result"
    }
   ],
   "source": [
    "# Check Pandas DF content\n",
    "df_wk"
   ]
  },
  {
   "cell_type": "code",
   "execution_count": 32,
   "metadata": {},
   "outputs": [
    {
     "data": {
      "image/png": "[encoded data removed]",
      "text/plain": [
       "<Figure size 2000x600 with 1 Axes>"
      ]
     },
     "metadata": {},
     "output_type": "display_data"
    }
   ],
   "source": [
    "import matplotlib.pyplot as plt\n",
    "%matplotlib inline\n",
    "\n",
    "df_wk.plot.bar(x='workclass', y='counts', figsize=(20,6));"
   ]
  },
  {
   "cell_type": "code",
   "execution_count": 33,
   "metadata": {},
   "outputs": [],
   "source": [
    "spark.stop()"
   ]
  }
 ],
 "metadata": {
  "kernelspec": {
   "display_name": "Python 3",
   "language": "python",
   "name": "python3"
  },
  "language_info": {
   "codemirror_mode": {
    "name": "ipython",
    "version": 3
   },
   "file_extension": ".py",
   "mimetype": "text/x-python",
   "name": "python",
   "nbconvert_exporter": "python",
   "pygments_lexer": "ipython3",
   "version": "3.8.13"
  }
 },
 "nbformat": 4,
 "nbformat_minor": 2
}
