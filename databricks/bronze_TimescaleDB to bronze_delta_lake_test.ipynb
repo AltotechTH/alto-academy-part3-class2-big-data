{
 "cells": [
  {
   "cell_type": "markdown",
   "metadata": {
    "application/vnd.databricks.v1+cell": {
     "cellMetadata": {},
     "inputWidgets": {},
     "nuid": "7f67fe5e-5529-4dfb-aa32-722dbc804de3",
     "showTitle": false,
     "title": ""
    }
   },
   "source": [
    "\n",
    "# Extract data from TimescaleDB, and load it to Delta Lake. \n",
    "\n",
    "This notebook shows you how to import data from JDBC TimescaleDB database and load it into Delta Lake using Python."
   ]
  },
  {
   "cell_type": "markdown",
   "metadata": {
    "application/vnd.databricks.v1+cell": {
     "cellMetadata": {},
     "inputWidgets": {},
     "nuid": "68188358-233e-4afe-a93f-382ac29ce71e",
     "showTitle": false,
     "title": ""
    }
   },
   "source": [
    "## Step 0: Set Timezone & Get the parameters"
   ]
  },
  {
   "cell_type": "code",
   "execution_count": 0,
   "metadata": {
    "application/vnd.databricks.v1+cell": {
     "cellMetadata": {
      "byteLimit": 2048000,
      "rowLimit": 10000
     },
     "inputWidgets": {},
     "nuid": "09792bd4-e113-4e96-8f1d-c9c038064da1",
     "showTitle": false,
     "title": ""
    }
   },
   "outputs": [],
   "source": [
    "# set the timezone of the spark session\n",
    "# otherwise the timezone information of data from TimescaleDB disapper\n",
    "spark.conf.set(\"spark.sql.session.timeZone\", \"Asia/Bangkok\")\n",
    "\n",
    "# the resample period has to be in minute\n",
    "trigger_period = 5\n",
    "table_name = \"bronze_table\"\n",
    "destination_table_name = \"bronze_delta_table\""
   ]
  },
  {
   "cell_type": "markdown",
   "metadata": {
    "application/vnd.databricks.v1+cell": {
     "cellMetadata": {},
     "inputWidgets": {},
     "nuid": "064e6786-c940-4ee4-a4e9-ae038155a1da",
     "showTitle": false,
     "title": ""
    }
   },
   "source": [
    "\n",
    "## Step 1: Connection information\n",
    "\n",
    "First define some variables to programmatically create these connections."
   ]
  },
  {
   "cell_type": "code",
   "execution_count": 0,
   "metadata": {
    "application/vnd.databricks.v1+cell": {
     "cellMetadata": {
      "byteLimit": 2048000,
      "rowLimit": 10000
     },
     "inputWidgets": {},
     "nuid": "c86509b5-3bd9-412e-ab8f-b109dd1154d2",
     "showTitle": false,
     "title": ""
    }
   },
   "outputs": [
    {
     "output_type": "stream",
     "name": "stdout",
     "output_type": "stream",
     "text": [
      "jdbc:postgresql://alto-workshop-timescaledb.postgres.database.azure.com:5432/postgres\n"
     ]
    }
   ],
   "source": [
    "driver = \"org.postgresql.Driver\"\n",
    "\n",
    "database_host = \"alto-workshop-timescaledb.postgres.database.azure.com\"\n",
    "database_port = \"5432\" # update if you use a non-default port\n",
    "database_name = \"postgres\" # eg. postgres\n",
    "user = \"solemnLizard\"\n",
    "password = \"af6f4b55-48e0-4fe1-a2b6-67869a28776e\"\n",
    "\n",
    "url = f\"jdbc:postgresql://{database_host}:{database_port}/{database_name}\"\n",
    "\n",
    "print(url)"
   ]
  },
  {
   "cell_type": "markdown",
   "metadata": {
    "application/vnd.databricks.v1+cell": {
     "cellMetadata": {},
     "inputWidgets": {},
     "nuid": "88cb943a-71ea-47e4-919c-e2efd039cbd3",
     "showTitle": false,
     "title": ""
    }
   },
   "source": [
    "## Step 2: Constructing the filter\n",
    "\n",
    "We will filter out the data between certain time periods.\n",
    "\n",
    "For now, we will get the current timestamp with ```pendulum``` library. In this case, we can't really do retry or backfilling. We may need to improve this somehow. "
   ]
  },
  {
   "cell_type": "code",
   "execution_count": 0,
   "metadata": {
    "application/vnd.databricks.v1+cell": {
     "cellMetadata": {
      "byteLimit": 2048000,
      "rowLimit": 10000
     },
     "inputWidgets": {},
     "nuid": "dffc6f6c-3cda-46d7-96f4-0f95cdd0bda1",
     "showTitle": false,
     "title": ""
    }
   },
   "outputs": [],
   "source": [
    "import pendulum\n",
    "\n",
    "end = pendulum.now(tz='Asia/Bangkok')\n",
    "# check if the end is every resample_period minutes\n",
    "if end.minute % trigger_period == 0:\n",
    "    # change the seconds and micro seconds to 0\n",
    "    end = end.set(second=0, microsecond=0)\n",
    "else:\n",
    "    # if not, round it down to the nearest resample_period minutes\n",
    "    end = end.subtract(minutes=end.minute % trigger_period)\n",
    "    # change the seconds and micro seconds to 0\n",
    "    end = end.set(second=0, microsecond=0)\n",
    "\n",
    "# start is resample_period minutes before end\n",
    "start = end.subtract(minutes=trigger_period)\n",
    "\n",
    "extract_query = f\"\"\"(SELECT * FROM {table_name} WHERE timestamp >= '{start}' AND timestamp < '{end}') as filtered_data\"\"\""
   ]
  },
  {
   "cell_type": "markdown",
   "metadata": {
    "application/vnd.databricks.v1+cell": {
     "cellMetadata": {},
     "inputWidgets": {},
     "nuid": "165cb68e-c818-4c26-8157-2a47b553bb84",
     "showTitle": false,
     "title": ""
    }
   },
   "source": [
    "\n",
    "## Step 2: Reading the data\n",
    "\n",
    "We will extract the data from **TimescaleDB** with the above filter applied."
   ]
  },
  {
   "cell_type": "code",
   "execution_count": 0,
   "metadata": {
    "application/vnd.databricks.v1+cell": {
     "cellMetadata": {
      "byteLimit": 2048000,
      "rowLimit": 10000
     },
     "inputWidgets": {},
     "nuid": "f9b34fa8-1e55-41aa-926f-60e17096434c",
     "showTitle": false,
     "title": ""
    }
   },
   "outputs": [],
   "source": [
    "source_table = (spark.read\n",
    "    .format(\"jdbc\")\n",
    "    .option(\"driver\", driver)\n",
    "    .option(\"url\", url)\n",
    "    .option(\"dbtable\", extract_query)\n",
    "    .option(\"user\", user)\n",
    "    .option(\"password\", password)\n",
    "    .load()\n",
    ")"
   ]
  },
  {
   "cell_type": "code",
   "execution_count": 0,
   "metadata": {
    "application/vnd.databricks.v1+cell": {
     "cellMetadata": {
      "byteLimit": 2048000,
      "rowLimit": 10000
     },
     "inputWidgets": {},
     "nuid": "9a2ef8b6-1e42-4ac1-9130-83270cf66906",
     "showTitle": false,
     "title": ""
    }
   },
   "outputs": [
    {
     "output_type": "display_data",
     "data": {
      "text/html": [
       "<style scoped>\n",
       "  .table-result-container {\n",
       "    max-height: 300px;\n",
       "    overflow: auto;\n",
       "  }\n",
       "  table, th, td {\n",
       "    border: 1px solid black;\n",
       "    border-collapse: collapse;\n",
       "  }\n",
       "  th, td {\n",
       "    padding: 5px;\n",
       "  }\n",
       "  th {\n",
       "    text-align: left;\n",
       "  }\n",
       "</style><div class='table-result-container'><table class='table-result'><thead style='background-color: white'><tr><th>timestamp</th><th>device_id</th><th>aggregation_type</th><th>datapoint</th><th>value</th></tr></thead><tbody><tr><td>2023-09-29T21:40:00.000+0700</td><td>eb27641363d2b2a091jdar</td><td>mode_1min</td><td>online_status</td><td>\"online\"</td></tr><tr><td>2023-09-29T21:40:00.000+0700</td><td>eb27641363d2b2a091jdar</td><td>mode_1min</td><td>presence_state</td><td>\"occupied\"</td></tr><tr><td>2023-09-29T21:40:00.000+0700</td><td>eb27641363d2b2a091jdar</td><td>mean_1min</td><td>sensitivity</td><td>100.0</td></tr><tr><td>2023-09-29T21:40:00.000+0700</td><td>eba63b92a045a9e8dbibaj</td><td>mean_1min</td><td>noise</td><td>76.0</td></tr><tr><td>2023-09-29T21:40:00.000+0700</td><td>eba63b92a045a9e8dbibaj</td><td>mean_1min</td><td>temperature</td><td>25.0</td></tr><tr><td>2023-09-29T21:40:00.000+0700</td><td>eba63b92a045a9e8dbibaj</td><td>mean_1min</td><td>co2</td><td>683.0</td></tr><tr><td>2023-09-29T21:40:00.000+0700</td><td>eba63b92a045a9e8dbibaj</td><td>mean_1min</td><td>pm25</td><td>4.0</td></tr><tr><td>2023-09-29T21:40:00.000+0700</td><td>eba63b92a045a9e8dbibaj</td><td>mean_1min</td><td>illuminance</td><td>17.0</td></tr><tr><td>2023-09-29T21:40:00.000+0700</td><td>eba63b92a045a9e8dbibaj</td><td>mean_1min</td><td>humidity</td><td>68.0</td></tr><tr><td>2023-09-29T21:40:00.000+0700</td><td>ebc130be2d36e91da6nj92</td><td>mode_1min</td><td>state</td><td>\"off\"</td></tr><tr><td>2023-09-29T21:40:00.000+0700</td><td>ebc130be2d36e91da6nj92</td><td>mode_1min</td><td>online_status</td><td>\"online\"</td></tr><tr><td>2023-09-29T21:41:00.000+0700</td><td>eb27641363d2b2a091jdar</td><td>mode_1min</td><td>online_status</td><td>\"online\"</td></tr><tr><td>2023-09-29T21:41:00.000+0700</td><td>eb27641363d2b2a091jdar</td><td>mode_1min</td><td>presence_state</td><td>\"occupied\"</td></tr><tr><td>2023-09-29T21:41:00.000+0700</td><td>eb27641363d2b2a091jdar</td><td>mean_1min</td><td>sensitivity</td><td>100.0</td></tr><tr><td>2023-09-29T21:41:00.000+0700</td><td>eba63b92a045a9e8dbibaj</td><td>mean_1min</td><td>noise</td><td>71.0</td></tr><tr><td>2023-09-29T21:41:00.000+0700</td><td>eba63b92a045a9e8dbibaj</td><td>mean_1min</td><td>temperature</td><td>25.0</td></tr><tr><td>2023-09-29T21:41:00.000+0700</td><td>eba63b92a045a9e8dbibaj</td><td>mean_1min</td><td>co2</td><td>689.0</td></tr><tr><td>2023-09-29T21:41:00.000+0700</td><td>eba63b92a045a9e8dbibaj</td><td>mean_1min</td><td>illuminance</td><td>16.0</td></tr><tr><td>2023-09-29T21:41:00.000+0700</td><td>eba63b92a045a9e8dbibaj</td><td>mean_1min</td><td>pm25</td><td>4.0</td></tr><tr><td>2023-09-29T21:41:00.000+0700</td><td>eba63b92a045a9e8dbibaj</td><td>mean_1min</td><td>humidity</td><td>68.0</td></tr><tr><td>2023-09-29T21:41:00.000+0700</td><td>ebc130be2d36e91da6nj92</td><td>mode_1min</td><td>state</td><td>\"off\"</td></tr><tr><td>2023-09-29T21:41:00.000+0700</td><td>ebc130be2d36e91da6nj92</td><td>mode_1min</td><td>online_status</td><td>\"online\"</td></tr><tr><td>2023-09-29T21:42:00.000+0700</td><td>eb27641363d2b2a091jdar</td><td>mode_1min</td><td>online_status</td><td>\"online\"</td></tr><tr><td>2023-09-29T21:42:00.000+0700</td><td>eb27641363d2b2a091jdar</td><td>mode_1min</td><td>presence_state</td><td>\"occupied\"</td></tr><tr><td>2023-09-29T21:42:00.000+0700</td><td>eb27641363d2b2a091jdar</td><td>mean_1min</td><td>sensitivity</td><td>100.0</td></tr><tr><td>2023-09-29T21:42:00.000+0700</td><td>eba63b92a045a9e8dbibaj</td><td>mean_1min</td><td>noise</td><td>71.0</td></tr><tr><td>2023-09-29T21:42:00.000+0700</td><td>eba63b92a045a9e8dbibaj</td><td>mean_1min</td><td>temperature</td><td>25.0</td></tr><tr><td>2023-09-29T21:42:00.000+0700</td><td>eba63b92a045a9e8dbibaj</td><td>mean_1min</td><td>co2</td><td>686.0</td></tr><tr><td>2023-09-29T21:42:00.000+0700</td><td>eba63b92a045a9e8dbibaj</td><td>mean_1min</td><td>illuminance</td><td>19.0</td></tr><tr><td>2023-09-29T21:42:00.000+0700</td><td>eba63b92a045a9e8dbibaj</td><td>mean_1min</td><td>pm25</td><td>4.0</td></tr><tr><td>2023-09-29T21:42:00.000+0700</td><td>eba63b92a045a9e8dbibaj</td><td>mean_1min</td><td>humidity</td><td>68.0</td></tr><tr><td>2023-09-29T21:43:00.000+0700</td><td>eb27641363d2b2a091jdar</td><td>mode_1min</td><td>online_status</td><td>\"online\"</td></tr><tr><td>2023-09-29T21:43:00.000+0700</td><td>eb27641363d2b2a091jdar</td><td>mode_1min</td><td>presence_state</td><td>\"occupied\"</td></tr><tr><td>2023-09-29T21:43:00.000+0700</td><td>eb27641363d2b2a091jdar</td><td>mean_1min</td><td>sensitivity</td><td>100.0</td></tr><tr><td>2023-09-29T21:43:00.000+0700</td><td>eba63b92a045a9e8dbibaj</td><td>mean_1min</td><td>noise</td><td>71.0</td></tr><tr><td>2023-09-29T21:43:00.000+0700</td><td>eba63b92a045a9e8dbibaj</td><td>mean_1min</td><td>temperature</td><td>25.0</td></tr><tr><td>2023-09-29T21:43:00.000+0700</td><td>eba63b92a045a9e8dbibaj</td><td>mean_1min</td><td>co2</td><td>691.0</td></tr><tr><td>2023-09-29T21:43:00.000+0700</td><td>eba63b92a045a9e8dbibaj</td><td>mean_1min</td><td>pm25</td><td>4.0</td></tr><tr><td>2023-09-29T21:43:00.000+0700</td><td>eba63b92a045a9e8dbibaj</td><td>mean_1min</td><td>illuminance</td><td>18.0</td></tr><tr><td>2023-09-29T21:43:00.000+0700</td><td>eba63b92a045a9e8dbibaj</td><td>mean_1min</td><td>humidity</td><td>68.0</td></tr><tr><td>2023-09-29T21:44:00.000+0700</td><td>eb27641363d2b2a091jdar</td><td>mode_1min</td><td>online_status</td><td>\"online\"</td></tr><tr><td>2023-09-29T21:44:00.000+0700</td><td>eb27641363d2b2a091jdar</td><td>mode_1min</td><td>presence_state</td><td>\"occupied\"</td></tr><tr><td>2023-09-29T21:44:00.000+0700</td><td>eb27641363d2b2a091jdar</td><td>mean_1min</td><td>sensitivity</td><td>100.0</td></tr><tr><td>2023-09-29T21:44:00.000+0700</td><td>eba63b92a045a9e8dbibaj</td><td>mean_1min</td><td>noise</td><td>71.0</td></tr><tr><td>2023-09-29T21:44:00.000+0700</td><td>eba63b92a045a9e8dbibaj</td><td>mean_1min</td><td>temperature</td><td>25.0</td></tr><tr><td>2023-09-29T21:44:00.000+0700</td><td>eba63b92a045a9e8dbibaj</td><td>mean_1min</td><td>co2</td><td>703.0</td></tr><tr><td>2023-09-29T21:44:00.000+0700</td><td>eba63b92a045a9e8dbibaj</td><td>mean_1min</td><td>pm25</td><td>4.0</td></tr><tr><td>2023-09-29T21:44:00.000+0700</td><td>eba63b92a045a9e8dbibaj</td><td>mean_1min</td><td>illuminance</td><td>16.0</td></tr><tr><td>2023-09-29T21:44:00.000+0700</td><td>eba63b92a045a9e8dbibaj</td><td>mean_1min</td><td>humidity</td><td>67.0</td></tr></tbody></table></div>"
      ]
     },
     "metadata": {
      "application/vnd.databricks.v1+output": {
       "addedWidgets": {},
       "aggData": [],
       "aggError": "",
       "aggOverflow": false,
       "aggSchema": [],
       "aggSeriesLimitReached": false,
       "aggType": "",
       "arguments": {},
       "columnCustomDisplayInfos": {},
       "data": [
        [
         "2023-09-29T21:40:00.000+0700",
         "eb27641363d2b2a091jdar",
         "mode_1min",
         "online_status",
         "\"online\""
        ],
        [
         "2023-09-29T21:40:00.000+0700",
         "eb27641363d2b2a091jdar",
         "mode_1min",
         "presence_state",
         "\"occupied\""
        ],
        [
         "2023-09-29T21:40:00.000+0700",
         "eb27641363d2b2a091jdar",
         "mean_1min",
         "sensitivity",
         "100.0"
        ],
        [
         "2023-09-29T21:40:00.000+0700",
         "eba63b92a045a9e8dbibaj",
         "mean_1min",
         "noise",
         "76.0"
        ],
        [
         "2023-09-29T21:40:00.000+0700",
         "eba63b92a045a9e8dbibaj",
         "mean_1min",
         "temperature",
         "25.0"
        ],
        [
         "2023-09-29T21:40:00.000+0700",
         "eba63b92a045a9e8dbibaj",
         "mean_1min",
         "co2",
         "683.0"
        ],
        [
         "2023-09-29T21:40:00.000+0700",
         "eba63b92a045a9e8dbibaj",
         "mean_1min",
         "pm25",
         "4.0"
        ],
        [
         "2023-09-29T21:40:00.000+0700",
         "eba63b92a045a9e8dbibaj",
         "mean_1min",
         "illuminance",
         "17.0"
        ],
        [
         "2023-09-29T21:40:00.000+0700",
         "eba63b92a045a9e8dbibaj",
         "mean_1min",
         "humidity",
         "68.0"
        ],
        [
         "2023-09-29T21:40:00.000+0700",
         "ebc130be2d36e91da6nj92",
         "mode_1min",
         "state",
         "\"off\""
        ],
        [
         "2023-09-29T21:40:00.000+0700",
         "ebc130be2d36e91da6nj92",
         "mode_1min",
         "online_status",
         "\"online\""
        ],
        [
         "2023-09-29T21:41:00.000+0700",
         "eb27641363d2b2a091jdar",
         "mode_1min",
         "online_status",
         "\"online\""
        ],
        [
         "2023-09-29T21:41:00.000+0700",
         "eb27641363d2b2a091jdar",
         "mode_1min",
         "presence_state",
         "\"occupied\""
        ],
        [
         "2023-09-29T21:41:00.000+0700",
         "eb27641363d2b2a091jdar",
         "mean_1min",
         "sensitivity",
         "100.0"
        ],
        [
         "2023-09-29T21:41:00.000+0700",
         "eba63b92a045a9e8dbibaj",
         "mean_1min",
         "noise",
         "71.0"
        ],
        [
         "2023-09-29T21:41:00.000+0700",
         "eba63b92a045a9e8dbibaj",
         "mean_1min",
         "temperature",
         "25.0"
        ],
        [
         "2023-09-29T21:41:00.000+0700",
         "eba63b92a045a9e8dbibaj",
         "mean_1min",
         "co2",
         "689.0"
        ],
        [
         "2023-09-29T21:41:00.000+0700",
         "eba63b92a045a9e8dbibaj",
         "mean_1min",
         "illuminance",
         "16.0"
        ],
        [
         "2023-09-29T21:41:00.000+0700",
         "eba63b92a045a9e8dbibaj",
         "mean_1min",
         "pm25",
         "4.0"
        ],
        [
         "2023-09-29T21:41:00.000+0700",
         "eba63b92a045a9e8dbibaj",
         "mean_1min",
         "humidity",
         "68.0"
        ],
        [
         "2023-09-29T21:41:00.000+0700",
         "ebc130be2d36e91da6nj92",
         "mode_1min",
         "state",
         "\"off\""
        ],
        [
         "2023-09-29T21:41:00.000+0700",
         "ebc130be2d36e91da6nj92",
         "mode_1min",
         "online_status",
         "\"online\""
        ],
        [
         "2023-09-29T21:42:00.000+0700",
         "eb27641363d2b2a091jdar",
         "mode_1min",
         "online_status",
         "\"online\""
        ],
        [
         "2023-09-29T21:42:00.000+0700",
         "eb27641363d2b2a091jdar",
         "mode_1min",
         "presence_state",
         "\"occupied\""
        ],
        [
         "2023-09-29T21:42:00.000+0700",
         "eb27641363d2b2a091jdar",
         "mean_1min",
         "sensitivity",
         "100.0"
        ],
        [
         "2023-09-29T21:42:00.000+0700",
         "eba63b92a045a9e8dbibaj",
         "mean_1min",
         "noise",
         "71.0"
        ],
        [
         "2023-09-29T21:42:00.000+0700",
         "eba63b92a045a9e8dbibaj",
         "mean_1min",
         "temperature",
         "25.0"
        ],
        [
         "2023-09-29T21:42:00.000+0700",
         "eba63b92a045a9e8dbibaj",
         "mean_1min",
         "co2",
         "686.0"
        ],
        [
         "2023-09-29T21:42:00.000+0700",
         "eba63b92a045a9e8dbibaj",
         "mean_1min",
         "illuminance",
         "19.0"
        ],
        [
         "2023-09-29T21:42:00.000+0700",
         "eba63b92a045a9e8dbibaj",
         "mean_1min",
         "pm25",
         "4.0"
        ],
        [
         "2023-09-29T21:42:00.000+0700",
         "eba63b92a045a9e8dbibaj",
         "mean_1min",
         "humidity",
         "68.0"
        ],
        [
         "2023-09-29T21:43:00.000+0700",
         "eb27641363d2b2a091jdar",
         "mode_1min",
         "online_status",
         "\"online\""
        ],
        [
         "2023-09-29T21:43:00.000+0700",
         "eb27641363d2b2a091jdar",
         "mode_1min",
         "presence_state",
         "\"occupied\""
        ],
        [
         "2023-09-29T21:43:00.000+0700",
         "eb27641363d2b2a091jdar",
         "mean_1min",
         "sensitivity",
         "100.0"
        ],
        [
         "2023-09-29T21:43:00.000+0700",
         "eba63b92a045a9e8dbibaj",
         "mean_1min",
         "noise",
         "71.0"
        ],
        [
         "2023-09-29T21:43:00.000+0700",
         "eba63b92a045a9e8dbibaj",
         "mean_1min",
         "temperature",
         "25.0"
        ],
        [
         "2023-09-29T21:43:00.000+0700",
         "eba63b92a045a9e8dbibaj",
         "mean_1min",
         "co2",
         "691.0"
        ],
        [
         "2023-09-29T21:43:00.000+0700",
         "eba63b92a045a9e8dbibaj",
         "mean_1min",
         "pm25",
         "4.0"
        ],
        [
         "2023-09-29T21:43:00.000+0700",
         "eba63b92a045a9e8dbibaj",
         "mean_1min",
         "illuminance",
         "18.0"
        ],
        [
         "2023-09-29T21:43:00.000+0700",
         "eba63b92a045a9e8dbibaj",
         "mean_1min",
         "humidity",
         "68.0"
        ],
        [
         "2023-09-29T21:44:00.000+0700",
         "eb27641363d2b2a091jdar",
         "mode_1min",
         "online_status",
         "\"online\""
        ],
        [
         "2023-09-29T21:44:00.000+0700",
         "eb27641363d2b2a091jdar",
         "mode_1min",
         "presence_state",
         "\"occupied\""
        ],
        [
         "2023-09-29T21:44:00.000+0700",
         "eb27641363d2b2a091jdar",
         "mean_1min",
         "sensitivity",
         "100.0"
        ],
        [
         "2023-09-29T21:44:00.000+0700",
         "eba63b92a045a9e8dbibaj",
         "mean_1min",
         "noise",
         "71.0"
        ],
        [
         "2023-09-29T21:44:00.000+0700",
         "eba63b92a045a9e8dbibaj",
         "mean_1min",
         "temperature",
         "25.0"
        ],
        [
         "2023-09-29T21:44:00.000+0700",
         "eba63b92a045a9e8dbibaj",
         "mean_1min",
         "co2",
         "703.0"
        ],
        [
         "2023-09-29T21:44:00.000+0700",
         "eba63b92a045a9e8dbibaj",
         "mean_1min",
         "pm25",
         "4.0"
        ],
        [
         "2023-09-29T21:44:00.000+0700",
         "eba63b92a045a9e8dbibaj",
         "mean_1min",
         "illuminance",
         "16.0"
        ],
        [
         "2023-09-29T21:44:00.000+0700",
         "eba63b92a045a9e8dbibaj",
         "mean_1min",
         "humidity",
         "67.0"
        ]
       ],
       "datasetInfos": [],
       "dbfsResultPath": null,
       "isJsonSchema": true,
       "metadata": {},
       "overflow": false,
       "plotOptions": {
        "customPlotOptions": {},
        "displayType": "table",
        "pivotAggregation": null,
        "pivotColumns": null,
        "xColumns": null,
        "yColumns": null
       },
       "removedWidgets": [],
       "schema": [
        {
         "metadata": "{\"scale\":6}",
         "name": "timestamp",
         "type": "\"timestamp\""
        },
        {
         "metadata": "{\"__CHAR_VARCHAR_TYPE_STRING\":\"varchar(128)\",\"scale\":0}",
         "name": "device_id",
         "type": "\"string\""
        },
        {
         "metadata": "{\"__CHAR_VARCHAR_TYPE_STRING\":\"varchar(32)\",\"scale\":0}",
         "name": "aggregation_type",
         "type": "\"string\""
        },
        {
         "metadata": "{\"__CHAR_VARCHAR_TYPE_STRING\":\"varchar(64)\",\"scale\":0}",
         "name": "datapoint",
         "type": "\"string\""
        },
        {
         "metadata": "{\"scale\":0}",
         "name": "value",
         "type": "\"string\""
        }
       ],
       "type": "table"
      }
     },
     "output_type": "display_data"
    }
   ],
   "source": [
    "# view the dataframe\n",
    "if not source_table.isEmpty():\n",
    "  display(source_table)\n",
    "else:\n",
    "  print(f\"There is no data between {start} and {end}\")"
   ]
  },
  {
   "cell_type": "markdown",
   "metadata": {
    "application/vnd.databricks.v1+cell": {
     "cellMetadata": {},
     "inputWidgets": {},
     "nuid": "5b0135c7-328a-4de3-8f04-ab9d1e6c77de",
     "showTitle": false,
     "title": ""
    }
   },
   "source": [
    "## Step 3: Mount ADLS Gen2 storage container"
   ]
  },
  {
   "cell_type": "code",
   "execution_count": 0,
   "metadata": {
    "application/vnd.databricks.v1+cell": {
     "cellMetadata": {
      "byteLimit": 2048000,
      "rowLimit": 10000
     },
     "inputWidgets": {},
     "nuid": "8a8b85e3-fda7-4f62-a896-dcc09a446ef9",
     "showTitle": false,
     "title": ""
    }
   },
   "outputs": [],
   "source": [
    "if source_table.isEmpty():\n",
    "  print(f\"There is no data between {start} and {end}\")\n",
    "else:\n",
    "  source_table.write.mode(\"append\").saveAsTable(destination_table_name)"
   ]
  },
  {
   "cell_type": "code",
   "execution_count": 0,
   "metadata": {
    "application/vnd.databricks.v1+cell": {
     "cellMetadata": {},
     "inputWidgets": {},
     "nuid": "32ed539c-58c5-4ff4-8ccb-3e49be7869c8",
     "showTitle": false,
     "title": ""
    }
   },
   "outputs": [],
   "source": []
  }
 ],
 "metadata": {
  "application/vnd.databricks.v1+notebook": {
   "dashboards": [],
   "language": "python",
   "notebookMetadata": {
    "mostRecentlyExecutedCommandWithImplicitDF": {
     "commandId": 3736157526499546,
     "dataframes": [
      "_sqldf"
     ]
    },
    "pythonIndentUnit": 2
   },
   "notebookName": "bronze_TimescaleDB to bronze_delta_lake_test",
   "widgets": {}
  }
 },
 "nbformat": 4,
 "nbformat_minor": 0
}
